{
 "cells": [
  {
   "cell_type": "code",
   "execution_count": 2,
   "id": "53742ba8",
   "metadata": {},
   "outputs": [
    {
     "name": "stdout",
     "output_type": "stream",
     "text": [
      "Different Target species of Iris dataset are  ['setosa' 'versicolor' 'virginica']\n"
     ]
    },
    {
     "data": {
      "text/html": [
       "<div>\n",
       "<style scoped>\n",
       "    .dataframe tbody tr th:only-of-type {\n",
       "        vertical-align: middle;\n",
       "    }\n",
       "\n",
       "    .dataframe tbody tr th {\n",
       "        vertical-align: top;\n",
       "    }\n",
       "\n",
       "    .dataframe thead th {\n",
       "        text-align: right;\n",
       "    }\n",
       "</style>\n",
       "<table border=\"1\" class=\"dataframe\">\n",
       "  <thead>\n",
       "    <tr style=\"text-align: right;\">\n",
       "      <th></th>\n",
       "      <th>sepal length (cm)</th>\n",
       "      <th>sepal width (cm)</th>\n",
       "      <th>petal length (cm)</th>\n",
       "      <th>petal width (cm)</th>\n",
       "      <th>species</th>\n",
       "    </tr>\n",
       "  </thead>\n",
       "  <tbody>\n",
       "    <tr>\n",
       "      <th>0</th>\n",
       "      <td>5.1</td>\n",
       "      <td>3.5</td>\n",
       "      <td>1.4</td>\n",
       "      <td>0.2</td>\n",
       "      <td>0</td>\n",
       "    </tr>\n",
       "    <tr>\n",
       "      <th>1</th>\n",
       "      <td>4.9</td>\n",
       "      <td>3.0</td>\n",
       "      <td>1.4</td>\n",
       "      <td>0.2</td>\n",
       "      <td>0</td>\n",
       "    </tr>\n",
       "    <tr>\n",
       "      <th>2</th>\n",
       "      <td>4.7</td>\n",
       "      <td>3.2</td>\n",
       "      <td>1.3</td>\n",
       "      <td>0.2</td>\n",
       "      <td>0</td>\n",
       "    </tr>\n",
       "    <tr>\n",
       "      <th>3</th>\n",
       "      <td>4.6</td>\n",
       "      <td>3.1</td>\n",
       "      <td>1.5</td>\n",
       "      <td>0.2</td>\n",
       "      <td>0</td>\n",
       "    </tr>\n",
       "    <tr>\n",
       "      <th>4</th>\n",
       "      <td>5.0</td>\n",
       "      <td>3.6</td>\n",
       "      <td>1.4</td>\n",
       "      <td>0.2</td>\n",
       "      <td>0</td>\n",
       "    </tr>\n",
       "    <tr>\n",
       "      <th>...</th>\n",
       "      <td>...</td>\n",
       "      <td>...</td>\n",
       "      <td>...</td>\n",
       "      <td>...</td>\n",
       "      <td>...</td>\n",
       "    </tr>\n",
       "    <tr>\n",
       "      <th>145</th>\n",
       "      <td>6.7</td>\n",
       "      <td>3.0</td>\n",
       "      <td>5.2</td>\n",
       "      <td>2.3</td>\n",
       "      <td>2</td>\n",
       "    </tr>\n",
       "    <tr>\n",
       "      <th>146</th>\n",
       "      <td>6.3</td>\n",
       "      <td>2.5</td>\n",
       "      <td>5.0</td>\n",
       "      <td>1.9</td>\n",
       "      <td>2</td>\n",
       "    </tr>\n",
       "    <tr>\n",
       "      <th>147</th>\n",
       "      <td>6.5</td>\n",
       "      <td>3.0</td>\n",
       "      <td>5.2</td>\n",
       "      <td>2.0</td>\n",
       "      <td>2</td>\n",
       "    </tr>\n",
       "    <tr>\n",
       "      <th>148</th>\n",
       "      <td>6.2</td>\n",
       "      <td>3.4</td>\n",
       "      <td>5.4</td>\n",
       "      <td>2.3</td>\n",
       "      <td>2</td>\n",
       "    </tr>\n",
       "    <tr>\n",
       "      <th>149</th>\n",
       "      <td>5.9</td>\n",
       "      <td>3.0</td>\n",
       "      <td>5.1</td>\n",
       "      <td>1.8</td>\n",
       "      <td>2</td>\n",
       "    </tr>\n",
       "  </tbody>\n",
       "</table>\n",
       "<p>150 rows × 5 columns</p>\n",
       "</div>"
      ],
      "text/plain": [
       "     sepal length (cm)  sepal width (cm)  petal length (cm)  petal width (cm)  \\\n",
       "0                  5.1               3.5                1.4               0.2   \n",
       "1                  4.9               3.0                1.4               0.2   \n",
       "2                  4.7               3.2                1.3               0.2   \n",
       "3                  4.6               3.1                1.5               0.2   \n",
       "4                  5.0               3.6                1.4               0.2   \n",
       "..                 ...               ...                ...               ...   \n",
       "145                6.7               3.0                5.2               2.3   \n",
       "146                6.3               2.5                5.0               1.9   \n",
       "147                6.5               3.0                5.2               2.0   \n",
       "148                6.2               3.4                5.4               2.3   \n",
       "149                5.9               3.0                5.1               1.8   \n",
       "\n",
       "     species  \n",
       "0          0  \n",
       "1          0  \n",
       "2          0  \n",
       "3          0  \n",
       "4          0  \n",
       "..       ...  \n",
       "145        2  \n",
       "146        2  \n",
       "147        2  \n",
       "148        2  \n",
       "149        2  \n",
       "\n",
       "[150 rows x 5 columns]"
      ]
     },
     "execution_count": 2,
     "metadata": {},
     "output_type": "execute_result"
    }
   ],
   "source": [
    "#| label: Iris\n",
    "#| fig-cap: \"Fig 1- Iris Dataset\"\n",
    "\n",
    "from sklearn import datasets\n",
    "import pandas as pd\n",
    "import numpy as np\n",
    "\n",
    "import matplotlib.pyplot as plt\n",
    "import seaborn as sns\n",
    "import warnings\n",
    "warnings.simplefilter(\"ignore\")\n",
    "\n",
    "iris = datasets.load_iris()\n",
    "\n",
    "# Converting Iris data into a pandas data frame\n",
    "iris_df = pd.DataFrame(data=iris.data,  \n",
    "                  columns=iris.feature_names)\n",
    "\n",
    "iris_df['species'] = iris.target\n",
    "print(\"Different Target species of Iris dataset are \", iris.target_names)\n",
    "  \n",
    "# Display dataframe\n",
    "iris_df"
   ]
  },
  {
   "cell_type": "code",
   "execution_count": 3,
   "id": "8bf7560c",
   "metadata": {},
   "outputs": [
    {
     "data": {
      "text/plain": [
       "0    50\n",
       "1    50\n",
       "2    50\n",
       "Name: species, dtype: int64"
      ]
     },
     "execution_count": 3,
     "metadata": {},
     "output_type": "execute_result"
    }
   ],
   "source": [
    "#| label: bal\n",
    "\n",
    "# Checking if the data is balanced or imbalanced\n",
    "iris_df['species'].value_counts()"
   ]
  },
  {
   "cell_type": "code",
   "execution_count": 4,
   "id": "6464b385",
   "metadata": {},
   "outputs": [
    {
     "data": {
      "image/png": "[encoded data removed]",
      "text/plain": [
       "<Figure size 640x480 with 1 Axes>"
      ]
     },
     "metadata": {},
     "output_type": "display_data"
    }
   ],
   "source": [
    "#| label: class_counts\n",
    "#| fig-cap: \"Fig 2- Iris Dataset species value counts\"\n",
    "\n",
    "# Plotting the class counts of target species\n",
    "sns.countplot(iris_df['species']);"
   ]
  },
  {
   "cell_type": "code",
   "execution_count": 5,
   "id": "9c1c70ec",
   "metadata": {},
   "outputs": [],
   "source": [
    "#| label: train_test_split\n",
    "\n",
    "# Splitting features and target variables\n",
    "\n",
    "X= iris_df.iloc[:,0:4]\n",
    "y=iris_df.iloc[:,4]\n",
    "\n",
    "# Splitting the dataset into train and test datasets\n",
    "\n",
    "from sklearn.model_selection import train_test_split\n",
    "X_train,X_test,y_train,y_test=train_test_split(X,y,random_state=5)"
   ]
  },
  {
   "cell_type": "code",
   "execution_count": 6,
   "id": "e1d4f2f0",
   "metadata": {},
   "outputs": [],
   "source": [
    "#| label: logistic_regression\n",
    "\n",
    "# Let us now use supervised learning algorithms like Logistic regression for the classification task.\n",
    "from sklearn.linear_model import LogisticRegression\n",
    "LR = LogisticRegression()\n",
    "# Fitting Logistic regression on the train data\n",
    "LR.fit(X_train,y_train)\n",
    "#Predicting the output on test data using the trained Logistic regression model\n",
    "y_pred=LR.predict(X_test)"
   ]
  },
  {
   "cell_type": "code",
   "execution_count": 7,
   "id": "b2ceb102",
   "metadata": {},
   "outputs": [
    {
     "name": "stdout",
     "output_type": "stream",
     "text": [
      "              precision    recall  f1-score   support\n",
      "\n",
      "           0       1.00      1.00      1.00        12\n",
      "           1       1.00      0.93      0.96        14\n",
      "           2       0.92      1.00      0.96        12\n",
      "\n",
      "    accuracy                           0.97        38\n",
      "   macro avg       0.97      0.98      0.97        38\n",
      "weighted avg       0.98      0.97      0.97        38\n",
      "\n"
     ]
    }
   ],
   "source": [
    "#| label: logistic_regression_metrics\n",
    "\n",
    "#Displaying classification metrics for Logistic regression\n",
    "from sklearn.metrics import classification_report\n",
    "print(classification_report(y_test,   y_pred))"
   ]
  },
  {
   "cell_type": "code",
   "execution_count": 8,
   "id": "0aa6bd60",
   "metadata": {},
   "outputs": [
    {
     "data": {
      "text/plain": [
       "array([[12,  0,  0],\n",
       "       [ 0, 13,  1],\n",
       "       [ 0,  0, 12]], dtype=int64)"
      ]
     },
     "execution_count": 8,
     "metadata": {},
     "output_type": "execute_result"
    }
   ],
   "source": [
    "#| label: logistic_regression_confusion_matrix\n",
    "\n",
    "# Printing confusion matrix for Logistic regression\n",
    "from sklearn.metrics import accuracy_score,confusion_matrix\n",
    "confusion_matrix(y_test,y_pred)"
   ]
  },
  {
   "cell_type": "code",
   "execution_count": 9,
   "id": "a8d7422f",
   "metadata": {},
   "outputs": [
    {
     "name": "stdout",
     "output_type": "stream",
     "text": [
      "Accuracy of Logistic Regression model is  97.36842105263158\n"
     ]
    }
   ],
   "source": [
    "#| label: logistic_regression_accuracy\n",
    "\n",
    "# Printing accuracy for Logistic regression\n",
    "accuracy=accuracy_score(y_test,y_pred)*100\n",
    "print(\"Accuracy of Logistic Regression model is \", accuracy)"
   ]
  },
  {
   "cell_type": "code",
   "execution_count": 10,
   "id": "a1fde8ac",
   "metadata": {},
   "outputs": [
    {
     "data": {
      "image/png": "[encoded data removed]",
      "text/plain": [
       "<Figure size 600x400 with 2 Axes>"
      ]
     },
     "metadata": {},
     "output_type": "display_data"
    }
   ],
   "source": [
    "#| label: logistic_regression_heatmap\n",
    "#| fig-cap: \"Fig 3- Heatmap of confusion matrix for Logistic regression\"\n",
    "\n",
    "# Plotting heatmap of confusion matrix for Logistic regression\n",
    "\n",
    "import seaborn as sns\n",
    "\n",
    "cm  = confusion_matrix(y_test, y_pred) \n",
    "\n",
    "cm_df = pd.DataFrame(cm,index = ['setosa','versicolor','virginica'], columns = ['setosa','versicolor','virginica'])\n",
    "\n",
    "plt.figure(figsize=(6,4))\n",
    "\n",
    "sns.heatmap(cm_df,   annot=True)\n",
    "\n",
    "plt.ylabel('True value')\n",
    "\n",
    "plt.xlabel('Predicted value')\n",
    "\n",
    "plt.show()"
   ]
  },
  {
   "cell_type": "code",
   "execution_count": 11,
   "id": "c6458330",
   "metadata": {},
   "outputs": [
    {
     "data": {
      "text/plain": [
       "array([1, 1, 2, 0, 2, 1, 0, 2, 0, 1, 1, 1, 2, 2, 0, 0, 2, 2, 0, 0, 1, 2,\n",
       "       0, 1, 1, 2, 1, 1, 1, 2, 0, 1, 1, 0, 1, 0, 0, 2])"
      ]
     },
     "execution_count": 11,
     "metadata": {},
     "output_type": "execute_result"
    }
   ],
   "source": [
    "#| label: Random_Forest\n",
    "\n",
    "# Let us now use non lineaar supervised learning algorithms like Random forest which is an ensemble model for the classification task.\n",
    "from sklearn.ensemble import RandomForestClassifier\n",
    "RF = RandomForestClassifier(random_state=5)\n",
    "# Fitting Random Forest on the train data\n",
    "RF.fit(X_train,y_train)\n",
    "#Predicting the output on test data using the trained Random forest model\n",
    "y_pred=RF.predict(X_test)\n",
    "y_pred"
   ]
  },
  {
   "cell_type": "code",
   "execution_count": 12,
   "id": "11cddc47",
   "metadata": {},
   "outputs": [
    {
     "name": "stdout",
     "output_type": "stream",
     "text": [
      "              precision    recall  f1-score   support\n",
      "\n",
      "           0       1.00      1.00      1.00        12\n",
      "           1       0.87      0.93      0.90        14\n",
      "           2       0.91      0.83      0.87        12\n",
      "\n",
      "    accuracy                           0.92        38\n",
      "   macro avg       0.93      0.92      0.92        38\n",
      "weighted avg       0.92      0.92      0.92        38\n",
      "\n"
     ]
    }
   ],
   "source": [
    "#| label: Random_forest_metrics\n",
    "\n",
    "#Displaying classification metrics for Random forest\n",
    "from sklearn.metrics import classification_report\n",
    "print(classification_report(y_test,   y_pred))"
   ]
  },
  {
   "cell_type": "code",
   "execution_count": 13,
   "id": "c6160073",
   "metadata": {},
   "outputs": [
    {
     "data": {
      "text/plain": [
       "array([[12,  0,  0],\n",
       "       [ 0, 13,  1],\n",
       "       [ 0,  2, 10]], dtype=int64)"
      ]
     },
     "execution_count": 13,
     "metadata": {},
     "output_type": "execute_result"
    }
   ],
   "source": [
    "#| label: Random_forest_confusion_matrix\n",
    "\n",
    "# Printing confusion matrix\n",
    "from sklearn.metrics import accuracy_score,confusion_matrix\n",
    "confusion_matrix(y_test,y_pred)"
   ]
  },
  {
   "cell_type": "code",
   "execution_count": 14,
   "id": "51fdf210",
   "metadata": {},
   "outputs": [
    {
     "name": "stdout",
     "output_type": "stream",
     "text": [
      "Accuracy of Random forest model is  92.10526315789474\n"
     ]
    }
   ],
   "source": [
    "#| label: Random_forest_accuracy\n",
    "\n",
    "# Printing accuracy\n",
    "accuracy=accuracy_score(y_test,y_pred)*100\n",
    "print(\"Accuracy of Random forest model is \", accuracy)"
   ]
  },
  {
   "cell_type": "code",
   "execution_count": 15,
   "id": "140c42b7",
   "metadata": {},
   "outputs": [
    {
     "data": {
      "image/png": "[encoded data removed]",
      "text/plain": [
       "<Figure size 600x400 with 2 Axes>"
      ]
     },
     "metadata": {},
     "output_type": "display_data"
    }
   ],
   "source": [
    "#| label: Random_forest_heatmap\n",
    "#| fig-cap: \"Fig 4- Heatmap of confusion matrix for Random forest\"\n",
    "\n",
    "# Plotting heatmap of confusion matrix for Random Forest\n",
    "\n",
    "import seaborn as sns\n",
    "\n",
    "cm  = confusion_matrix(y_test, y_pred) \n",
    "\n",
    "cm_df = pd.DataFrame(cm,index = ['setosa','versicolor','virginica'], columns = ['setosa','versicolor','virginica'])\n",
    "\n",
    "plt.figure(figsize=(6,4))\n",
    "\n",
    "sns.heatmap(cm_df,   annot=True)\n",
    "\n",
    "plt.ylabel('True value')\n",
    "\n",
    "plt.xlabel('Predicted value')\n",
    "\n",
    "plt.show()"
   ]
  }
 ],
 "metadata": {
  "kernelspec": {
   "display_name": "Python 3 (ipykernel)",
   "language": "python",
   "name": "python3"
  },
  "language_info": {
   "codemirror_mode": {
    "name": "ipython",
    "version": 3
   },
   "file_extension": ".py",
   "mimetype": "text/x-python",
   "name": "python",
   "nbconvert_exporter": "python",
   "pygments_lexer": "ipython3",
   "version": "3.9.13"
  }
 },
 "nbformat": 4,
 "nbformat_minor": 5
}
